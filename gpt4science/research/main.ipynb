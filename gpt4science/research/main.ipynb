{
 "cells": [
  {
   "cell_type": "code",
   "execution_count": 1,
   "metadata": {},
   "outputs": [],
   "source": [
    "from langchain_openai.chat_models import ChatOpenAI\n",
    "\n",
    "import gpt4science.settings as settings\n",
    "\n",
    "llm4 = ChatOpenAI(api_key=settings.OPENAI_API_KEY, model=settings.GPT4_TURBO)\n",
    "llm3 = ChatOpenAI(api_key=settings.OPENAI_API_KEY, model=settings.GPT3_TURBO)"
   ]
  },
  {
   "cell_type": "code",
   "execution_count": 3,
   "metadata": {},
   "outputs": [
    {
     "name": "stdout",
     "output_type": "stream",
     "text": [
      "Title: Quantum gates and circuits\n",
      "URL: https://royalsocietypublishing.org/doi/abs/10.1098/rspa.1998.0159\n",
      "\n",
      "Title: Constructing quantum circuits with global gates\n",
      "URL: https://iopscience.iop.org/article/10.1088/1367-2630/abf1b3/meta\n",
      "\n",
      "Title: Ultrafast quantum gates in circuit QED\n",
      "URL: https://journals.aps.org/prl/abstract/10.1103/PhysRevLett.108.120501\n",
      "\n",
      "Title: Quantum circuits with uniformly controlled one-qubit gates\n",
      "URL: https://journals.aps.org/pra/abstract/10.1103/PhysRevA.71.052330\n",
      "\n",
      "Title: Reducing the number of non-Clifford gates in quantum circuits\n",
      "URL: https://journals.aps.org/pra/abstract/10.1103/PhysRevA.102.022406\n",
      "\n",
      "Title: Learning Quantum Circuits of Some T Gates\n",
      "URL: https://ieeexplore.ieee.org/abstract/document/9714418/\n",
      "\n",
      "Title: Quantum gates\n",
      "URL: https://link.springer.com/chapter/10.1007/978-1-84628-887-6_2\n",
      "\n",
      "Title: Optimal quantum circuits for general two-qubit gates\n",
      "URL: https://journals.aps.org/pra/abstract/10.1103/PhysRevA.69.032315\n",
      "\n",
      "Title: Decompositions of general quantum gates\n",
      "URL: https://books.google.com/books?hl=pl&lr=&id=QIRLHidEN7YC&oi=fnd&pg=PA149&dq=%22Quantum+Gates%22+AND+circuits&ots=huwDFkfrAB&sig=6oIcGOSxGHyBBhQt63agOpiE_1U\n",
      "\n",
      "Title: Resonant quantum gates in circuit quantum electrodynamics\n",
      "URL: https://journals.aps.org/prb/abstract/10.1103/PhysRevB.82.024514\n",
      "\n"
     ]
    }
   ],
   "source": [
    "from pydantic import BaseModel, HttpUrl\n",
    "import requests\n",
    "from bs4 import BeautifulSoup\n",
    "from typing import List, Optional\n",
    "\n",
    "class ScholarResult(BaseModel):\n",
    "    title: str\n",
    "    url: Optional[HttpUrl]  # Use HttpUrl for URL validation\n",
    "\n",
    "def get_scholar_results(query: str) -> List[ScholarResult]:\n",
    "    url = 'https://scholar.google.com/scholar'\n",
    "    headers = {'User-Agent': 'Mozilla/5.0'}\n",
    "    params = {'q': query}\n",
    "    response = requests.get(url, headers=headers, params=params)\n",
    "\n",
    "    results = []\n",
    "    if response.status_code == 200:\n",
    "        soup = BeautifulSoup(response.text, 'html.parser')\n",
    "        for item in soup.find_all('h3', class_='gs_rt'):\n",
    "            title = item.get_text()\n",
    "            link = item.a['href'] if item.a else None\n",
    "            results.append(ScholarResult(title=title, url=link))\n",
    "    return results\n",
    "\n",
    "# Example usage\n",
    "query = '\"Quantum Gates\" AND circuits'\n",
    "scholar_results = get_scholar_results(query)\n",
    "for result in scholar_results:\n",
    "    print(f'Title: {result.title}\\nURL: {result.url}\\n')\n"
   ]
  },
  {
   "cell_type": "code",
   "execution_count": 4,
   "metadata": {},
   "outputs": [
    {
     "data": {
      "text/plain": [
       "'  Phys. Rev. A 69, 032315 (2004)  -  Optimal quantum circuits for general two-qubit gates             Skip to Main ContentJournalsPhysical Review LettersPhysical Review XPRX EnergyPRX LifePRX QuantumReviews of Modern PhysicsPhysical Review APhysical Review BPhysical Review CPhysical Review DPhysical Review EPhysical Review ResearchPhysical Review Accelerators and BeamsPhysical Review AppliedPhysical Review FluidsPhysical Review MaterialsPhysical Review Physics Education ResearchPhysical ReviewPhysical Review (Series I)Physics Physique FizikaPhysics MagazineHelp/FeedbackSearch/Article LookupLog inPhysical Review Acovering atomic, molecular, and optical physics and quantum informationHighlightsLettersRecentAcceptedCollectionsAuthorsRefereesSearchPressAboutEditorial TeamOptimal quantum circuits for general two-qubit gatesFarrokh Vatan and Colin WilliamsPhys. Rev. A 69, 032315 – Published 22 March 2004  More×ArticleReferencesCiting Articles (236)ArticleReferencesCiting Articles (236)PDFHTMLExport CitationAbstractAuthorsArticle Text— INTRODUCTION— NOTATION— MAGIC BASIS— REALIZING TWO-QUBIT GATES FROM O(4)— REALIZING TWO-QUBIT GATES FROM U(4)— THREE CNOT GATES ARE NEEDED— CONCLUSIONReferencesAbstractAuthorsArticle TextINTRODUCTIONNOTATIONMAGIC BASISREALIZING TWO-QUBIT GATES FROM O(4)REALIZING TWO-QUBIT GATES FROM U(4)THREE CNOT GATES ARE NEEDEDCONCLUSIONReferencesAbstract          In order to demonstrate nontrivial quantum computations experimentally, such as the synthesis of arbitrary entangled states, it will be useful to understand how to decompose a desired quantum computation into the shortest possible sequence of one-qubit and two-qubit gates. We contribute to this effort by providing a method to construct an optimal quantum circuit for a general two-qubit gate that requires at most 3 controlled-NOT (CNOT) gates and 15 elementary one-qubit gates. Moreover, if the desired two-qubit gate corresponds to a purely real unitary transformation, we provide a construction that requries at most 2 CNOT and 12 one-qubit gates. We then prove that these constructions are optimal with respect to the family of CNOT, y-rotation, z-rotation, and phase gates.1 MoreReceived 13 August 2003DOI:https://doi.org/10.1103/PhysRevA.69.032315©2004 American Physical SocietyAuthors & Affiliations          Farrokh Vatan* and Colin Williams†Jet Propulsion Laboratory, California Institute of Technology, 4800 Oak Grove Drive, Pasadena, California 91109-8099, USA*Electronic address: Farrokh.Vatan@jpl.nasa.gov†Electronic address: Colin.P.Williams@jpl.nasa.govClick to ExpandArticle Text (Subscription Required)          Click to ExpandReferences (Subscription Required)          Click to ExpandIssueVol. 69, Iss. 3 — March 2004Reuse & PermissionsAccess OptionsBuy Article »Log in with individual APS Journal Account  »Log in with a username/password provided by your institution »Get access through a U.S. public or high school library »Authorization RequiredLog InOther OptionsBuy Article »Find an Institution with the Article »×Download & SharePDFExportReuse & PermissionsCiting Articles (236)Tweet×ImagesFigure 1A circuit for implementing the magic gate M.Reuse & PermissionsFigure 2A circuit for implementing a general transform in SO(4), where A,B∊SU(2), S1=Rz(π∕2), and R1=Ry(π∕2).Reuse & PermissionsFigure 3A circuit for implementing a transform in O(4) determinant equal to −1, where A,B∊SU(2), S1=Rz(π∕2), and R1=Ry(π∕2).Reuse & PermissionsFigure 4A circuit for implementing N(α,β,γ); first version.Reuse & PermissionsFigure 5A circuit for implementing N(α,β,γ); second version. Here S1=Rz(π∕2), S2=Rz(2γ−π∕2), T1=Ry(π∕2−2α), and T2=Ry(2β−π∕2).Reuse & PermissionsFigure 6A circuit for implementing N(α,β,γ); third version. A global ei(π∕4) phase is missing here.Reuse & PermissionsFigure 7A circuit for implementing a transform in U(4).Reuse & PermissionsFigure 8A circuit consisting of two CNOT gates in terms of CZ gates.Reuse & Permissions×Sign up to receive regular email alerts from Physical Review ASign upMore LinksAPSCurrent IssueEarlier IssuesNews & AnnouncementsAbout this JournalEditorial TeamAbout the JournalsJoin APSAuthorsGeneral InformationSubmit a ManuscriptPublication RightsOpen AccessPolicies & PracticesTips for AuthorsProfessional ConductRefereesGeneral InformationSubmit a ReportUpdate Your InformationPolicies & PracticesReferee FAQGuidelines for RefereesOutstanding RefereesLibrariansGeneral InformationSubscriptionsOnline License AgreementUsage StatisticsYour AccountStudentsPhysicsPhysicsCentralStudent MembershipAPS MembersSubscriptionsArticle PacksMembershipFAQAPS NewsMeetings & EventsPrivacyPoliciesContact InformationFeedbackISSN 2469-9934 (online), 2469-9926 (print). ©2024 American Physical Society. All rights reserved. Physical Review A™ is a trademark of the American Physical Society, registered in the United States, Canada, European Union, and Japan. The APS Physics logo and Physics logo are trademarks of the American Physical Society. Information about registration may be found here.     Use of the American Physical Society websites and journals implies that     the user has read and agrees to our Terms and     Conditions and any applicable     Subscription     Agreement.  Log In CancelForgot your username/password?Create an account×SearchAll Fields Author Abstract Abstract/Title PhySH Concept Title Cited Author Affiliation Collaboration Article LookupPaste a citation or DOIEnter a citationJournal: Phys. Rev. Lett. Phys. Rev. X PRX Energy PRX Life PRX Quantum Rev. Mod. Phys. Phys. Rev. A Phys. Rev. B Phys. Rev. C Phys. Rev. D Phys. Rev. E Phys. Rev. Research Phys. Rev. Accel. Beams Phys. Rev. ST Accel. Beams Phys. Rev. Applied Phys. Rev. Fluids Phys. Rev. Materials Phys. Rev. Phys. Educ. Res. Phys. Rev. ST Phys. Educ. Res. Physics Phys. Rev. Phys. Rev. (Series I) Physics Physique Fizika Volume: Article: ×'"
      ]
     },
     "execution_count": 4,
     "metadata": {},
     "output_type": "execute_result"
    }
   ],
   "source": [
    "import requests\n",
    "\n",
    "from bs4 import BeautifulSoup\n",
    "\n",
    "res = requests.get(\"https://journals.aps.org/pra/abstract/10.1103/PhysRevA.69.032315\")\n",
    "soup = BeautifulSoup(res.text, 'html.parser')\n",
    "\n",
    "# Extract the text content\n",
    "text_content = soup.get_text()\n",
    "\n",
    "# Print the cleaned text content\n",
    "parsed_text = text_content.replace(\"\\n\", \" \").replace(\"\\t\", \" \").replace(\"\\r\", \" \")\n",
    "parsed_text"
   ]
  },
  {
   "cell_type": "code",
   "execution_count": 12,
   "metadata": {},
   "outputs": [],
   "source": [
    "from pydantic.v1 import BaseModel\n",
    "from datetime import date\n",
    "from langchain.chains import create_extraction_chain_pydantic\n",
    "from pprint import pprint\n",
    "\n",
    "class PaperSource(BaseModel):\n",
    "    title: str\n",
    "    abstract: str\n",
    "    authors: list[str]\n",
    "    published_in: str\n",
    "    published_date_year: int\n",
    "    published_date_month: int\n",
    "    published_date_day: int\n",
    "\n",
    "    @property\n",
    "    def published_date(self):\n",
    "        return date(self.published_date_year, self.published_date_month, self.published_date_day)\n",
    "\n",
    "# Example usage\n",
    "chain = create_extraction_chain_pydantic(pydantic_schema=PaperSource, llm=llm3)\n",
    "paper_source = chain.invoke(parsed_text)[\"text\"][0]"
   ]
  },
  {
   "cell_type": "code",
   "execution_count": 14,
   "metadata": {},
   "outputs": [
    {
     "name": "stdout",
     "output_type": "stream",
     "text": [
      "{'abstract': 'In order to demonstrate nontrivial quantum computations '\n",
      "             'experimentally, such as the synthesis of arbitrary entangled '\n",
      "             'states, it will be useful to understand how to decompose a '\n",
      "             'desired quantum computation into the shortest possible sequence '\n",
      "             'of one-qubit and two-qubit gates. We contribute to this effort '\n",
      "             'by providing a method to construct an optimal quantum circuit '\n",
      "             'for a general two-qubit gate that requires at most 3 '\n",
      "             'controlled-NOT (CNOT) gates and 15 elementary one-qubit gates. '\n",
      "             'Moreover, if the desired two-qubit gate corresponds to a purely '\n",
      "             'real unitary transformation, we provide a construction that '\n",
      "             'requires at most 2 CNOT and 12 one-qubit gates. We then prove '\n",
      "             'that these constructions are optimal with respect to the family '\n",
      "             'of CNOT, y-rotation, z-rotation, and phase gates.',\n",
      " 'authors': ['Farrokh Vatan', 'Colin Williams'],\n",
      " 'published_date_day': 22,\n",
      " 'published_date_month': 3,\n",
      " 'published_date_year': 2004,\n",
      " 'published_in': 'Phys. Rev. A',\n",
      " 'title': 'Optimal quantum circuits for general two-qubit gates'}\n"
     ]
    }
   ],
   "source": [
    "pprint(paper_source.dict())"
   ]
  }
 ],
 "metadata": {
  "kernelspec": {
   "display_name": "gpt4science-T4MVo85c-py3.10",
   "language": "python",
   "name": "python3"
  },
  "language_info": {
   "codemirror_mode": {
    "name": "ipython",
    "version": 3
   },
   "file_extension": ".py",
   "mimetype": "text/x-python",
   "name": "python",
   "nbconvert_exporter": "python",
   "pygments_lexer": "ipython3",
   "version": "3.10.6"
  }
 },
 "nbformat": 4,
 "nbformat_minor": 2
}
